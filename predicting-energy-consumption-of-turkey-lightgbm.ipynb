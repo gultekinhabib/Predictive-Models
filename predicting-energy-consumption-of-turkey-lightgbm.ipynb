{
 "cells": [
  {
   "cell_type": "markdown",
   "metadata": {
    "papermill": {
     "duration": 0.041115,
     "end_time": "2020-11-14T14:12:44.135398",
     "exception": false,
     "start_time": "2020-11-14T14:12:44.094283",
     "status": "completed"
    },
    "tags": []
   },
   "source": [
    "# Prediction of Hourly Energy Consumption of Turkey"
   ]
  },
  {
   "cell_type": "markdown",
   "metadata": {
    "_cell_guid": "79c7e3d0-c299-4dcb-8224-4455121ee9b0",
    "_uuid": "d629ff2d2480ee46fbb7e2d37f6b5fab8052498a",
    "collapsed": true,
    "papermill": {
     "duration": 0.036556,
     "end_time": "2020-11-14T14:12:44.209910",
     "exception": false,
     "start_time": "2020-11-14T14:12:44.173354",
     "status": "completed"
    },
    "tags": []
   },
   "source": [
    "Predicting the power demand with high accuracy might introduce a great set of values for a country, for a city or even for households. Stakeholders might adjust their power production accordingly to reduce cost; or they can buy sufficient amounts of energy if they meet their power needs from external sources. In some certain cases, such as in tendering processes in a daily energy exchange, the stakeholders may generate addtional profit, too. \n",
    "\n",
    "In this notebook I will introduce basics of training a Machine Learning model predicting Power Consumption of Turkey for the next 24 hours, using Ensemble Methods."
   ]
  },
  {
   "cell_type": "markdown",
   "metadata": {
    "papermill": {
     "duration": 0.038024,
     "end_time": "2020-11-14T14:12:44.295573",
     "exception": false,
     "start_time": "2020-11-14T14:12:44.257549",
     "status": "completed"
    },
    "tags": []
   },
   "source": [
    "## Importing and Processing the Data"
   ]
  },
  {
   "cell_type": "code",
   "execution_count": 1,
   "metadata": {
    "execution": {
     "iopub.execute_input": "2020-11-14T14:12:44.383763Z",
     "iopub.status.busy": "2020-11-14T14:12:44.382906Z",
     "iopub.status.idle": "2020-11-14T14:12:45.581052Z",
     "shell.execute_reply": "2020-11-14T14:12:45.580170Z"
    },
    "papermill": {
     "duration": 1.24685,
     "end_time": "2020-11-14T14:12:45.581186",
     "exception": false,
     "start_time": "2020-11-14T14:12:44.334336",
     "status": "completed"
    },
    "tags": []
   },
   "outputs": [],
   "source": [
    "import numpy as np\n",
    "import pandas as pd\n",
    "import seaborn as sns\n",
    "import matplotlib.pyplot as plt"
   ]
  },
  {
   "cell_type": "code",
   "execution_count": 2,
   "metadata": {
    "execution": {
     "iopub.execute_input": "2020-11-14T14:12:45.662211Z",
     "iopub.status.busy": "2020-11-14T14:12:45.661424Z",
     "iopub.status.idle": "2020-11-14T14:12:45.742644Z",
     "shell.execute_reply": "2020-11-14T14:12:45.741893Z"
    },
    "papermill": {
     "duration": 0.124168,
     "end_time": "2020-11-14T14:12:45.742776",
     "exception": false,
     "start_time": "2020-11-14T14:12:45.618608",
     "status": "completed"
    },
    "tags": []
   },
   "outputs": [],
   "source": [
    "df = pd.read_csv('../input/hourly-power-consumption-of-turkey-20162020/RealTimeConsumption-01012016-04082020.csv', encoding='cp1254')"
   ]
  },
  {
   "cell_type": "code",
   "execution_count": 3,
   "metadata": {
    "execution": {
     "iopub.execute_input": "2020-11-14T14:12:45.834043Z",
     "iopub.status.busy": "2020-11-14T14:12:45.832863Z",
     "iopub.status.idle": "2020-11-14T14:12:45.846269Z",
     "shell.execute_reply": "2020-11-14T14:12:45.845454Z"
    },
    "papermill": {
     "duration": 0.06449,
     "end_time": "2020-11-14T14:12:45.846406",
     "exception": false,
     "start_time": "2020-11-14T14:12:45.781916",
     "status": "completed"
    },
    "tags": []
   },
   "outputs": [
    {
     "data": {
      "text/html": [
       "<div>\n",
       "<style scoped>\n",
       "    .dataframe tbody tr th:only-of-type {\n",
       "        vertical-align: middle;\n",
       "    }\n",
       "\n",
       "    .dataframe tbody tr th {\n",
       "        vertical-align: top;\n",
       "    }\n",
       "\n",
       "    .dataframe thead th {\n",
       "        text-align: right;\n",
       "    }\n",
       "</style>\n",
       "<table border=\"1\" class=\"dataframe\">\n",
       "  <thead>\n",
       "    <tr style=\"text-align: right;\">\n",
       "      <th></th>\n",
       "      <th>Date</th>\n",
       "      <th>Hour</th>\n",
       "      <th>Consumption (MWh)</th>\n",
       "    </tr>\n",
       "  </thead>\n",
       "  <tbody>\n",
       "    <tr>\n",
       "      <th>0</th>\n",
       "      <td>01.01.2016</td>\n",
       "      <td>00:00</td>\n",
       "      <td>26,277.24</td>\n",
       "    </tr>\n",
       "    <tr>\n",
       "      <th>1</th>\n",
       "      <td>01.01.2016</td>\n",
       "      <td>01:00</td>\n",
       "      <td>24,991.82</td>\n",
       "    </tr>\n",
       "    <tr>\n",
       "      <th>2</th>\n",
       "      <td>01.01.2016</td>\n",
       "      <td>02:00</td>\n",
       "      <td>23,532.61</td>\n",
       "    </tr>\n",
       "    <tr>\n",
       "      <th>3</th>\n",
       "      <td>01.01.2016</td>\n",
       "      <td>03:00</td>\n",
       "      <td>22,464.78</td>\n",
       "    </tr>\n",
       "    <tr>\n",
       "      <th>4</th>\n",
       "      <td>01.01.2016</td>\n",
       "      <td>04:00</td>\n",
       "      <td>22,002.91</td>\n",
       "    </tr>\n",
       "  </tbody>\n",
       "</table>\n",
       "</div>"
      ],
      "text/plain": [
       "         Date   Hour Consumption (MWh)\n",
       "0  01.01.2016  00:00         26,277.24\n",
       "1  01.01.2016  01:00         24,991.82\n",
       "2  01.01.2016  02:00         23,532.61\n",
       "3  01.01.2016  03:00         22,464.78\n",
       "4  01.01.2016  04:00         22,002.91"
      ]
     },
     "execution_count": 3,
     "metadata": {},
     "output_type": "execute_result"
    }
   ],
   "source": [
    "df.head()"
   ]
  },
  {
   "cell_type": "code",
   "execution_count": 4,
   "metadata": {
    "execution": {
     "iopub.execute_input": "2020-11-14T14:12:45.932476Z",
     "iopub.status.busy": "2020-11-14T14:12:45.931597Z",
     "iopub.status.idle": "2020-11-14T14:12:46.202203Z",
     "shell.execute_reply": "2020-11-14T14:12:46.201547Z"
    },
    "papermill": {
     "duration": 0.316612,
     "end_time": "2020-11-14T14:12:46.202340",
     "exception": false,
     "start_time": "2020-11-14T14:12:45.885728",
     "status": "completed"
    },
    "tags": []
   },
   "outputs": [],
   "source": [
    "df['Date'] =pd.to_datetime(df['Date'] +' '+ df['Hour'], format='%d.%m.%Y %H:%M')"
   ]
  },
  {
   "cell_type": "markdown",
   "metadata": {
    "papermill": {
     "duration": 0.037683,
     "end_time": "2020-11-14T14:12:46.279233",
     "exception": false,
     "start_time": "2020-11-14T14:12:46.241550",
     "status": "completed"
    },
    "tags": []
   },
   "source": [
    "Let's check whether we miss any entry in the time series \"Data\" feature:"
   ]
  },
  {
   "cell_type": "code",
   "execution_count": 5,
   "metadata": {
    "execution": {
     "iopub.execute_input": "2020-11-14T14:12:46.366578Z",
     "iopub.status.busy": "2020-11-14T14:12:46.365567Z",
     "iopub.status.idle": "2020-11-14T14:12:46.377639Z",
     "shell.execute_reply": "2020-11-14T14:12:46.376839Z"
    },
    "papermill": {
     "duration": 0.060263,
     "end_time": "2020-11-14T14:12:46.377767",
     "exception": false,
     "start_time": "2020-11-14T14:12:46.317504",
     "status": "completed"
    },
    "tags": []
   },
   "outputs": [
    {
     "data": {
      "text/plain": [
       "DatetimeIndex([], dtype='datetime64[ns]', freq=None)"
      ]
     },
     "execution_count": 5,
     "metadata": {},
     "output_type": "execute_result"
    }
   ],
   "source": [
    "pd.date_range(start = '2016-01-01 00:00:00', end = '2020-03-24 00:00:00', freq = 'D').difference(df.Date)"
   ]
  },
  {
   "cell_type": "code",
   "execution_count": 6,
   "metadata": {
    "execution": {
     "iopub.execute_input": "2020-11-14T14:12:46.465695Z",
     "iopub.status.busy": "2020-11-14T14:12:46.464580Z",
     "iopub.status.idle": "2020-11-14T14:12:46.469291Z",
     "shell.execute_reply": "2020-11-14T14:12:46.468597Z"
    },
    "papermill": {
     "duration": 0.052977,
     "end_time": "2020-11-14T14:12:46.469442",
     "exception": false,
     "start_time": "2020-11-14T14:12:46.416465",
     "status": "completed"
    },
    "tags": []
   },
   "outputs": [],
   "source": [
    "df = df.drop('Hour', axis = 1)"
   ]
  },
  {
   "cell_type": "code",
   "execution_count": 7,
   "metadata": {
    "execution": {
     "iopub.execute_input": "2020-11-14T14:12:46.560782Z",
     "iopub.status.busy": "2020-11-14T14:12:46.559829Z",
     "iopub.status.idle": "2020-11-14T14:12:46.564602Z",
     "shell.execute_reply": "2020-11-14T14:12:46.563832Z"
    },
    "papermill": {
     "duration": 0.055854,
     "end_time": "2020-11-14T14:12:46.564723",
     "exception": false,
     "start_time": "2020-11-14T14:12:46.508869",
     "status": "completed"
    },
    "tags": []
   },
   "outputs": [
    {
     "data": {
      "text/html": [
       "<div>\n",
       "<style scoped>\n",
       "    .dataframe tbody tr th:only-of-type {\n",
       "        vertical-align: middle;\n",
       "    }\n",
       "\n",
       "    .dataframe tbody tr th {\n",
       "        vertical-align: top;\n",
       "    }\n",
       "\n",
       "    .dataframe thead th {\n",
       "        text-align: right;\n",
       "    }\n",
       "</style>\n",
       "<table border=\"1\" class=\"dataframe\">\n",
       "  <thead>\n",
       "    <tr style=\"text-align: right;\">\n",
       "      <th></th>\n",
       "      <th>Date</th>\n",
       "      <th>Consumption (MWh)</th>\n",
       "    </tr>\n",
       "  </thead>\n",
       "  <tbody>\n",
       "    <tr>\n",
       "      <th>0</th>\n",
       "      <td>2016-01-01 00:00:00</td>\n",
       "      <td>26,277.24</td>\n",
       "    </tr>\n",
       "    <tr>\n",
       "      <th>1</th>\n",
       "      <td>2016-01-01 01:00:00</td>\n",
       "      <td>24,991.82</td>\n",
       "    </tr>\n",
       "    <tr>\n",
       "      <th>2</th>\n",
       "      <td>2016-01-01 02:00:00</td>\n",
       "      <td>23,532.61</td>\n",
       "    </tr>\n",
       "    <tr>\n",
       "      <th>3</th>\n",
       "      <td>2016-01-01 03:00:00</td>\n",
       "      <td>22,464.78</td>\n",
       "    </tr>\n",
       "    <tr>\n",
       "      <th>4</th>\n",
       "      <td>2016-01-01 04:00:00</td>\n",
       "      <td>22,002.91</td>\n",
       "    </tr>\n",
       "  </tbody>\n",
       "</table>\n",
       "</div>"
      ],
      "text/plain": [
       "                 Date Consumption (MWh)\n",
       "0 2016-01-01 00:00:00         26,277.24\n",
       "1 2016-01-01 01:00:00         24,991.82\n",
       "2 2016-01-01 02:00:00         23,532.61\n",
       "3 2016-01-01 03:00:00         22,464.78\n",
       "4 2016-01-01 04:00:00         22,002.91"
      ]
     },
     "execution_count": 7,
     "metadata": {},
     "output_type": "execute_result"
    }
   ],
   "source": [
    "df.head()"
   ]
  },
  {
   "cell_type": "code",
   "execution_count": 8,
   "metadata": {
    "execution": {
     "iopub.execute_input": "2020-11-14T14:12:46.660159Z",
     "iopub.status.busy": "2020-11-14T14:12:46.654026Z",
     "iopub.status.idle": "2020-11-14T14:12:46.716735Z",
     "shell.execute_reply": "2020-11-14T14:12:46.716064Z"
    },
    "papermill": {
     "duration": 0.112446,
     "end_time": "2020-11-14T14:12:46.716870",
     "exception": false,
     "start_time": "2020-11-14T14:12:46.604424",
     "status": "completed"
    },
    "tags": []
   },
   "outputs": [],
   "source": [
    "df['Consumption (MWh)'] = df['Consumption (MWh)'].str.replace(',','')\n",
    "df['Consumption (MWh)'] = pd.to_numeric(df['Consumption (MWh)'])"
   ]
  },
  {
   "cell_type": "code",
   "execution_count": 9,
   "metadata": {
    "execution": {
     "iopub.execute_input": "2020-11-14T14:12:46.805598Z",
     "iopub.status.busy": "2020-11-14T14:12:46.804392Z",
     "iopub.status.idle": "2020-11-14T14:12:46.813227Z",
     "shell.execute_reply": "2020-11-14T14:12:46.812437Z"
    },
    "papermill": {
     "duration": 0.055533,
     "end_time": "2020-11-14T14:12:46.813362",
     "exception": false,
     "start_time": "2020-11-14T14:12:46.757829",
     "status": "completed"
    },
    "tags": []
   },
   "outputs": [],
   "source": [
    "df = df.sort_values('Date')"
   ]
  },
  {
   "cell_type": "code",
   "execution_count": 10,
   "metadata": {
    "execution": {
     "iopub.execute_input": "2020-11-14T14:12:46.906738Z",
     "iopub.status.busy": "2020-11-14T14:12:46.905846Z",
     "iopub.status.idle": "2020-11-14T14:12:46.910394Z",
     "shell.execute_reply": "2020-11-14T14:12:46.909740Z"
    },
    "papermill": {
     "duration": 0.055914,
     "end_time": "2020-11-14T14:12:46.910527",
     "exception": false,
     "start_time": "2020-11-14T14:12:46.854613",
     "status": "completed"
    },
    "tags": []
   },
   "outputs": [
    {
     "data": {
      "text/html": [
       "<div>\n",
       "<style scoped>\n",
       "    .dataframe tbody tr th:only-of-type {\n",
       "        vertical-align: middle;\n",
       "    }\n",
       "\n",
       "    .dataframe tbody tr th {\n",
       "        vertical-align: top;\n",
       "    }\n",
       "\n",
       "    .dataframe thead th {\n",
       "        text-align: right;\n",
       "    }\n",
       "</style>\n",
       "<table border=\"1\" class=\"dataframe\">\n",
       "  <thead>\n",
       "    <tr style=\"text-align: right;\">\n",
       "      <th></th>\n",
       "      <th>Date</th>\n",
       "      <th>Consumption (MWh)</th>\n",
       "    </tr>\n",
       "  </thead>\n",
       "  <tbody>\n",
       "    <tr>\n",
       "      <th>0</th>\n",
       "      <td>2016-01-01 00:00:00</td>\n",
       "      <td>26277.24</td>\n",
       "    </tr>\n",
       "    <tr>\n",
       "      <th>1</th>\n",
       "      <td>2016-01-01 01:00:00</td>\n",
       "      <td>24991.82</td>\n",
       "    </tr>\n",
       "    <tr>\n",
       "      <th>2</th>\n",
       "      <td>2016-01-01 02:00:00</td>\n",
       "      <td>23532.61</td>\n",
       "    </tr>\n",
       "    <tr>\n",
       "      <th>3</th>\n",
       "      <td>2016-01-01 03:00:00</td>\n",
       "      <td>22464.78</td>\n",
       "    </tr>\n",
       "    <tr>\n",
       "      <th>4</th>\n",
       "      <td>2016-01-01 04:00:00</td>\n",
       "      <td>22002.91</td>\n",
       "    </tr>\n",
       "  </tbody>\n",
       "</table>\n",
       "</div>"
      ],
      "text/plain": [
       "                 Date  Consumption (MWh)\n",
       "0 2016-01-01 00:00:00           26277.24\n",
       "1 2016-01-01 01:00:00           24991.82\n",
       "2 2016-01-01 02:00:00           23532.61\n",
       "3 2016-01-01 03:00:00           22464.78\n",
       "4 2016-01-01 04:00:00           22002.91"
      ]
     },
     "execution_count": 10,
     "metadata": {},
     "output_type": "execute_result"
    }
   ],
   "source": [
    "df.head()"
   ]
  },
  {
   "cell_type": "code",
   "execution_count": 11,
   "metadata": {
    "execution": {
     "iopub.execute_input": "2020-11-14T14:12:47.000711Z",
     "iopub.status.busy": "2020-11-14T14:12:46.999554Z",
     "iopub.status.idle": "2020-11-14T14:12:47.005078Z",
     "shell.execute_reply": "2020-11-14T14:12:47.004382Z"
    },
    "papermill": {
     "duration": 0.053914,
     "end_time": "2020-11-14T14:12:47.005213",
     "exception": false,
     "start_time": "2020-11-14T14:12:46.951299",
     "status": "completed"
    },
    "tags": []
   },
   "outputs": [
    {
     "name": "stdout",
     "output_type": "stream",
     "text": [
      "2016-01-01 00:00:00 2020-08-04 23:00:00\n"
     ]
    }
   ],
   "source": [
    "print(df['Date'].min(), df['Date'].max())"
   ]
  },
  {
   "cell_type": "markdown",
   "metadata": {
    "papermill": {
     "duration": 0.043891,
     "end_time": "2020-11-14T14:12:47.092096",
     "exception": false,
     "start_time": "2020-11-14T14:12:47.048205",
     "status": "completed"
    },
    "tags": []
   },
   "source": [
    "For the purposes of this notebook, I will not be including the Covid period as approximately started in Turkey:"
   ]
  },
  {
   "cell_type": "code",
   "execution_count": 12,
   "metadata": {
    "execution": {
     "iopub.execute_input": "2020-11-14T14:12:47.184939Z",
     "iopub.status.busy": "2020-11-14T14:12:47.183079Z",
     "iopub.status.idle": "2020-11-14T14:12:47.195518Z",
     "shell.execute_reply": "2020-11-14T14:12:47.194683Z"
    },
    "papermill": {
     "duration": 0.060795,
     "end_time": "2020-11-14T14:12:47.195646",
     "exception": false,
     "start_time": "2020-11-14T14:12:47.134851",
     "status": "completed"
    },
    "tags": []
   },
   "outputs": [],
   "source": [
    "df = df.set_index('Date').loc[:'2020-03-24 23:00:00', :].reset_index()"
   ]
  },
  {
   "cell_type": "code",
   "execution_count": 13,
   "metadata": {
    "execution": {
     "iopub.execute_input": "2020-11-14T14:12:47.291217Z",
     "iopub.status.busy": "2020-11-14T14:12:47.290282Z",
     "iopub.status.idle": "2020-11-14T14:12:47.295273Z",
     "shell.execute_reply": "2020-11-14T14:12:47.294472Z"
    },
    "papermill": {
     "duration": 0.057233,
     "end_time": "2020-11-14T14:12:47.295402",
     "exception": false,
     "start_time": "2020-11-14T14:12:47.238169",
     "status": "completed"
    },
    "tags": []
   },
   "outputs": [
    {
     "data": {
      "text/html": [
       "<div>\n",
       "<style scoped>\n",
       "    .dataframe tbody tr th:only-of-type {\n",
       "        vertical-align: middle;\n",
       "    }\n",
       "\n",
       "    .dataframe tbody tr th {\n",
       "        vertical-align: top;\n",
       "    }\n",
       "\n",
       "    .dataframe thead th {\n",
       "        text-align: right;\n",
       "    }\n",
       "</style>\n",
       "<table border=\"1\" class=\"dataframe\">\n",
       "  <thead>\n",
       "    <tr style=\"text-align: right;\">\n",
       "      <th></th>\n",
       "      <th>Date</th>\n",
       "      <th>Consumption (MWh)</th>\n",
       "    </tr>\n",
       "  </thead>\n",
       "  <tbody>\n",
       "    <tr>\n",
       "      <th>37075</th>\n",
       "      <td>2020-03-24 19:00:00</td>\n",
       "      <td>35584.14</td>\n",
       "    </tr>\n",
       "    <tr>\n",
       "      <th>37076</th>\n",
       "      <td>2020-03-24 20:00:00</td>\n",
       "      <td>35189.92</td>\n",
       "    </tr>\n",
       "    <tr>\n",
       "      <th>37077</th>\n",
       "      <td>2020-03-24 21:00:00</td>\n",
       "      <td>34187.54</td>\n",
       "    </tr>\n",
       "    <tr>\n",
       "      <th>37078</th>\n",
       "      <td>2020-03-24 22:00:00</td>\n",
       "      <td>33505.39</td>\n",
       "    </tr>\n",
       "    <tr>\n",
       "      <th>37079</th>\n",
       "      <td>2020-03-24 23:00:00</td>\n",
       "      <td>32021.62</td>\n",
       "    </tr>\n",
       "  </tbody>\n",
       "</table>\n",
       "</div>"
      ],
      "text/plain": [
       "                     Date  Consumption (MWh)\n",
       "37075 2020-03-24 19:00:00           35584.14\n",
       "37076 2020-03-24 20:00:00           35189.92\n",
       "37077 2020-03-24 21:00:00           34187.54\n",
       "37078 2020-03-24 22:00:00           33505.39\n",
       "37079 2020-03-24 23:00:00           32021.62"
      ]
     },
     "execution_count": 13,
     "metadata": {},
     "output_type": "execute_result"
    }
   ],
   "source": [
    "df.tail()"
   ]
  },
  {
   "cell_type": "code",
   "execution_count": 14,
   "metadata": {
    "execution": {
     "iopub.execute_input": "2020-11-14T14:12:47.386167Z",
     "iopub.status.busy": "2020-11-14T14:12:47.385115Z",
     "iopub.status.idle": "2020-11-14T14:12:47.396715Z",
     "shell.execute_reply": "2020-11-14T14:12:47.396097Z"
    },
    "papermill": {
     "duration": 0.059307,
     "end_time": "2020-11-14T14:12:47.396843",
     "exception": false,
     "start_time": "2020-11-14T14:12:47.337536",
     "status": "completed"
    },
    "tags": []
   },
   "outputs": [
    {
     "name": "stdout",
     "output_type": "stream",
     "text": [
      "<class 'pandas.core.frame.DataFrame'>\n",
      "RangeIndex: 37080 entries, 0 to 37079\n",
      "Data columns (total 2 columns):\n",
      " #   Column             Non-Null Count  Dtype         \n",
      "---  ------             --------------  -----         \n",
      " 0   Date               37080 non-null  datetime64[ns]\n",
      " 1   Consumption (MWh)  37080 non-null  float64       \n",
      "dtypes: datetime64[ns](1), float64(1)\n",
      "memory usage: 579.5 KB\n"
     ]
    }
   ],
   "source": [
    "df.info()"
   ]
  },
  {
   "cell_type": "code",
   "execution_count": 15,
   "metadata": {
    "execution": {
     "iopub.execute_input": "2020-11-14T14:12:47.489426Z",
     "iopub.status.busy": "2020-11-14T14:12:47.488547Z",
     "iopub.status.idle": "2020-11-14T14:12:47.967146Z",
     "shell.execute_reply": "2020-11-14T14:12:47.967738Z"
    },
    "papermill": {
     "duration": 0.528035,
     "end_time": "2020-11-14T14:12:47.967895",
     "exception": false,
     "start_time": "2020-11-14T14:12:47.439860",
     "status": "completed"
    },
    "tags": []
   },
   "outputs": [
    {
     "data": {
      "image/png": "[encoded data removed]",
      "text/plain": [
       "<Figure size 1080x360 with 1 Axes>"
      ]
     },
     "metadata": {
      "needs_background": "light"
     },
     "output_type": "display_data"
    }
   ],
   "source": [
    "df.set_index('Date').plot(style='.', figsize=(15,5), title='Consumption vs. Date')\n",
    "plt.show()"
   ]
  },
  {
   "cell_type": "code",
   "execution_count": 16,
   "metadata": {
    "execution": {
     "iopub.execute_input": "2020-11-14T14:12:48.068445Z",
     "iopub.status.busy": "2020-11-14T14:12:48.067491Z",
     "iopub.status.idle": "2020-11-14T14:12:50.485954Z",
     "shell.execute_reply": "2020-11-14T14:12:50.486544Z"
    },
    "papermill": {
     "duration": 2.473365,
     "end_time": "2020-11-14T14:12:50.486710",
     "exception": false,
     "start_time": "2020-11-14T14:12:48.013345",
     "status": "completed"
    },
    "tags": []
   },
   "outputs": [
    {
     "data": {
      "image/png": "[encoded data removed]",
      "text/plain": [
       "<Figure size 2160x360 with 1 Axes>"
      ]
     },
     "metadata": {
      "needs_background": "light"
     },
     "output_type": "display_data"
    },
    {
     "data": {
      "image/png": "[encoded data removed]",
      "text/plain": [
       "<Figure size 2520x360 with 1 Axes>"
      ]
     },
     "metadata": {},
     "output_type": "display_data"
    }
   ],
   "source": [
    "import matplotlib.pyplot as plt\n",
    "from statsmodels.graphics.tsaplots import plot_acf, plot_pacf\n",
    "fig, ax = plt.subplots(figsize=(30, 5))\n",
    "plot_acf(df.set_index('Date'),lags = 720, ax=ax)\n",
    "plt.show()\n",
    "\n",
    "\n",
    "sns.set(style='whitegrid')\n",
    "fig, ax = plt.subplots(figsize=(35, 5))\n",
    "plot_pacf(df.set_index('Date'),lags = 205, ax=ax)\n",
    "plt.xticks(np.arange(0, 210, step=5))\n",
    "plt.show()"
   ]
  },
  {
   "cell_type": "code",
   "execution_count": 17,
   "metadata": {
    "execution": {
     "iopub.execute_input": "2020-11-14T14:12:50.591339Z",
     "iopub.status.busy": "2020-11-14T14:12:50.590395Z",
     "iopub.status.idle": "2020-11-14T14:12:51.443972Z",
     "shell.execute_reply": "2020-11-14T14:12:51.443359Z"
    },
    "papermill": {
     "duration": 0.909134,
     "end_time": "2020-11-14T14:12:51.444114",
     "exception": false,
     "start_time": "2020-11-14T14:12:50.534980",
     "status": "completed"
    },
    "tags": []
   },
   "outputs": [
    {
     "data": {
      "text/plain": [
       "Text(0.5, 1.0, 'Hourly Consumption')"
      ]
     },
     "execution_count": 17,
     "metadata": {},
     "output_type": "execute_result"
    },
    {
     "data": {
      "image/png": "[encoded data removed]",
      "text/plain": [
       "<Figure size 1080x504 with 1 Axes>"
      ]
     },
     "metadata": {},
     "output_type": "display_data"
    }
   ],
   "source": [
    "plt.figure(figsize = (15, 7))\n",
    "ax = sns.boxplot(x=df['Date'].dt.hour, y=\"Consumption (MWh)\", data=df)\n",
    "plt.title('Hourly Consumption', fontsize=11)"
   ]
  },
  {
   "cell_type": "code",
   "execution_count": 18,
   "metadata": {
    "execution": {
     "iopub.execute_input": "2020-11-14T14:12:51.549456Z",
     "iopub.status.busy": "2020-11-14T14:12:51.548442Z",
     "iopub.status.idle": "2020-11-14T14:12:51.553270Z",
     "shell.execute_reply": "2020-11-14T14:12:51.552520Z"
    },
    "papermill": {
     "duration": 0.059506,
     "end_time": "2020-11-14T14:12:51.553427",
     "exception": false,
     "start_time": "2020-11-14T14:12:51.493921",
     "status": "completed"
    },
    "tags": []
   },
   "outputs": [],
   "source": [
    "df['Consumption (MWh)'] = np.log1p(df['Consumption (MWh)'])"
   ]
  },
  {
   "cell_type": "markdown",
   "metadata": {
    "papermill": {
     "duration": 0.049395,
     "end_time": "2020-11-14T14:12:51.652825",
     "exception": false,
     "start_time": "2020-11-14T14:12:51.603430",
     "status": "completed"
    },
    "tags": []
   },
   "source": [
    "## Basic Feature Engineering"
   ]
  },
  {
   "cell_type": "markdown",
   "metadata": {
    "papermill": {
     "duration": 0.049376,
     "end_time": "2020-11-14T14:12:51.752793",
     "exception": false,
     "start_time": "2020-11-14T14:12:51.703417",
     "status": "completed"
    },
    "tags": []
   },
   "source": [
    "### Lag Features"
   ]
  },
  {
   "cell_type": "code",
   "execution_count": 19,
   "metadata": {
    "execution": {
     "iopub.execute_input": "2020-11-14T14:12:51.861670Z",
     "iopub.status.busy": "2020-11-14T14:12:51.860616Z",
     "iopub.status.idle": "2020-11-14T14:12:51.869587Z",
     "shell.execute_reply": "2020-11-14T14:12:51.868822Z"
    },
    "papermill": {
     "duration": 0.066541,
     "end_time": "2020-11-14T14:12:51.869710",
     "exception": false,
     "start_time": "2020-11-14T14:12:51.803169",
     "status": "completed"
    },
    "tags": []
   },
   "outputs": [],
   "source": [
    "df['rolling_mean_t41'] = df['Consumption (MWh)'].shift(38)\n",
    "df['rolling_mean_t41'] = df['Consumption (MWh)'].shift(41)\n",
    "df['rolling_mean_t48'] = df['Consumption (MWh)'].shift(48)\n",
    "df['rolling_mean_t72'] = df['Consumption (MWh)'].shift(72) \n",
    "df['rolling_mean_t168'] = df['Consumption (MWh)'].shift(168)"
   ]
  },
  {
   "cell_type": "code",
   "execution_count": 20,
   "metadata": {
    "execution": {
     "iopub.execute_input": "2020-11-14T14:12:51.991161Z",
     "iopub.status.busy": "2020-11-14T14:12:51.990280Z",
     "iopub.status.idle": "2020-11-14T14:12:51.994776Z",
     "shell.execute_reply": "2020-11-14T14:12:51.994054Z"
    },
    "papermill": {
     "duration": 0.075181,
     "end_time": "2020-11-14T14:12:51.994901",
     "exception": false,
     "start_time": "2020-11-14T14:12:51.919720",
     "status": "completed"
    },
    "tags": []
   },
   "outputs": [
    {
     "data": {
      "text/html": [
       "<div>\n",
       "<style scoped>\n",
       "    .dataframe tbody tr th:only-of-type {\n",
       "        vertical-align: middle;\n",
       "    }\n",
       "\n",
       "    .dataframe tbody tr th {\n",
       "        vertical-align: top;\n",
       "    }\n",
       "\n",
       "    .dataframe thead th {\n",
       "        text-align: right;\n",
       "    }\n",
       "</style>\n",
       "<table border=\"1\" class=\"dataframe\">\n",
       "  <thead>\n",
       "    <tr style=\"text-align: right;\">\n",
       "      <th></th>\n",
       "      <th>Date</th>\n",
       "      <th>Consumption (MWh)</th>\n",
       "      <th>rolling_mean_t41</th>\n",
       "      <th>rolling_mean_t48</th>\n",
       "      <th>rolling_mean_t72</th>\n",
       "      <th>rolling_mean_t168</th>\n",
       "    </tr>\n",
       "  </thead>\n",
       "  <tbody>\n",
       "    <tr>\n",
       "      <th>0</th>\n",
       "      <td>2016-01-01 00:00:00</td>\n",
       "      <td>10.176496</td>\n",
       "      <td>NaN</td>\n",
       "      <td>NaN</td>\n",
       "      <td>NaN</td>\n",
       "      <td>NaN</td>\n",
       "    </tr>\n",
       "    <tr>\n",
       "      <th>1</th>\n",
       "      <td>2016-01-01 01:00:00</td>\n",
       "      <td>10.126344</td>\n",
       "      <td>NaN</td>\n",
       "      <td>NaN</td>\n",
       "      <td>NaN</td>\n",
       "      <td>NaN</td>\n",
       "    </tr>\n",
       "    <tr>\n",
       "      <th>2</th>\n",
       "      <td>2016-01-01 02:00:00</td>\n",
       "      <td>10.066185</td>\n",
       "      <td>NaN</td>\n",
       "      <td>NaN</td>\n",
       "      <td>NaN</td>\n",
       "      <td>NaN</td>\n",
       "    </tr>\n",
       "    <tr>\n",
       "      <th>3</th>\n",
       "      <td>2016-01-01 03:00:00</td>\n",
       "      <td>10.019749</td>\n",
       "      <td>NaN</td>\n",
       "      <td>NaN</td>\n",
       "      <td>NaN</td>\n",
       "      <td>NaN</td>\n",
       "    </tr>\n",
       "    <tr>\n",
       "      <th>4</th>\n",
       "      <td>2016-01-01 04:00:00</td>\n",
       "      <td>9.998975</td>\n",
       "      <td>NaN</td>\n",
       "      <td>NaN</td>\n",
       "      <td>NaN</td>\n",
       "      <td>NaN</td>\n",
       "    </tr>\n",
       "    <tr>\n",
       "      <th>...</th>\n",
       "      <td>...</td>\n",
       "      <td>...</td>\n",
       "      <td>...</td>\n",
       "      <td>...</td>\n",
       "      <td>...</td>\n",
       "      <td>...</td>\n",
       "    </tr>\n",
       "    <tr>\n",
       "      <th>37075</th>\n",
       "      <td>2020-03-24 19:00:00</td>\n",
       "      <td>10.479683</td>\n",
       "      <td>10.158169</td>\n",
       "      <td>10.396895</td>\n",
       "      <td>10.490146</td>\n",
       "      <td>10.572474</td>\n",
       "    </tr>\n",
       "    <tr>\n",
       "      <th>37076</th>\n",
       "      <td>2020-03-24 20:00:00</td>\n",
       "      <td>10.468543</td>\n",
       "      <td>10.134094</td>\n",
       "      <td>10.403032</td>\n",
       "      <td>10.494903</td>\n",
       "      <td>10.565442</td>\n",
       "    </tr>\n",
       "    <tr>\n",
       "      <th>37077</th>\n",
       "      <td>2020-03-24 21:00:00</td>\n",
       "      <td>10.439646</td>\n",
       "      <td>10.129021</td>\n",
       "      <td>10.368976</td>\n",
       "      <td>10.464276</td>\n",
       "      <td>10.537836</td>\n",
       "    </tr>\n",
       "    <tr>\n",
       "      <th>37078</th>\n",
       "      <td>2020-03-24 22:00:00</td>\n",
       "      <td>10.419491</td>\n",
       "      <td>10.141702</td>\n",
       "      <td>10.345436</td>\n",
       "      <td>10.426128</td>\n",
       "      <td>10.501170</td>\n",
       "    </tr>\n",
       "    <tr>\n",
       "      <th>37079</th>\n",
       "      <td>2020-03-24 23:00:00</td>\n",
       "      <td>10.374198</td>\n",
       "      <td>10.155763</td>\n",
       "      <td>10.310060</td>\n",
       "      <td>10.388948</td>\n",
       "      <td>10.451028</td>\n",
       "    </tr>\n",
       "  </tbody>\n",
       "</table>\n",
       "<p>37080 rows × 6 columns</p>\n",
       "</div>"
      ],
      "text/plain": [
       "                     Date  Consumption (MWh)  rolling_mean_t41  \\\n",
       "0     2016-01-01 00:00:00          10.176496               NaN   \n",
       "1     2016-01-01 01:00:00          10.126344               NaN   \n",
       "2     2016-01-01 02:00:00          10.066185               NaN   \n",
       "3     2016-01-01 03:00:00          10.019749               NaN   \n",
       "4     2016-01-01 04:00:00           9.998975               NaN   \n",
       "...                   ...                ...               ...   \n",
       "37075 2020-03-24 19:00:00          10.479683         10.158169   \n",
       "37076 2020-03-24 20:00:00          10.468543         10.134094   \n",
       "37077 2020-03-24 21:00:00          10.439646         10.129021   \n",
       "37078 2020-03-24 22:00:00          10.419491         10.141702   \n",
       "37079 2020-03-24 23:00:00          10.374198         10.155763   \n",
       "\n",
       "       rolling_mean_t48  rolling_mean_t72  rolling_mean_t168  \n",
       "0                   NaN               NaN                NaN  \n",
       "1                   NaN               NaN                NaN  \n",
       "2                   NaN               NaN                NaN  \n",
       "3                   NaN               NaN                NaN  \n",
       "4                   NaN               NaN                NaN  \n",
       "...                 ...               ...                ...  \n",
       "37075         10.396895         10.490146          10.572474  \n",
       "37076         10.403032         10.494903          10.565442  \n",
       "37077         10.368976         10.464276          10.537836  \n",
       "37078         10.345436         10.426128          10.501170  \n",
       "37079         10.310060         10.388948          10.451028  \n",
       "\n",
       "[37080 rows x 6 columns]"
      ]
     },
     "execution_count": 20,
     "metadata": {},
     "output_type": "execute_result"
    }
   ],
   "source": [
    "df"
   ]
  },
  {
   "cell_type": "markdown",
   "metadata": {
    "papermill": {
     "duration": 0.05199,
     "end_time": "2020-11-14T14:12:52.099772",
     "exception": false,
     "start_time": "2020-11-14T14:12:52.047782",
     "status": "completed"
    },
    "tags": []
   },
   "source": [
    "### Rolling Features"
   ]
  },
  {
   "cell_type": "code",
   "execution_count": 21,
   "metadata": {
    "execution": {
     "iopub.execute_input": "2020-11-14T14:12:52.218746Z",
     "iopub.status.busy": "2020-11-14T14:12:52.213492Z",
     "iopub.status.idle": "2020-11-14T14:12:52.345595Z",
     "shell.execute_reply": "2020-11-14T14:12:52.346192Z"
    },
    "papermill": {
     "duration": 0.194256,
     "end_time": "2020-11-14T14:12:52.346364",
     "exception": false,
     "start_time": "2020-11-14T14:12:52.152108",
     "status": "completed"
    },
    "tags": []
   },
   "outputs": [],
   "source": [
    "df['rolling_mean_t38'] = df['Consumption (MWh)'].transform(lambda x: x.shift(38).rolling(12).mean())\n",
    "df['rolling_mean_t50'] = df['Consumption (MWh)'].transform(lambda x: x.shift(38).rolling(24).mean())\n",
    "df['rolling_mean_t62'] = df['Consumption (MWh)'].transform(lambda x: x.shift(38).rolling(48).mean())\n",
    "df['rolling_median_t38'] = df['Consumption (MWh)'].transform(lambda x: x.shift(38).rolling(12).median())\n",
    "df['rolling_median_t50'] = df['Consumption (MWh)'].transform(lambda x: x.shift(38).rolling(24).median())\n",
    "df['rolling_median_t62'] = df['Consumption (MWh)'].transform(lambda x: x.shift(38).rolling(48).median())\n",
    "df['rolling_std_t38'] = df['Consumption (MWh)'].transform(lambda x: x.shift(38).rolling(12).std())\n",
    "df['rolling_std_t50'] = df['Consumption (MWh)'].transform(lambda x: x.shift(38).rolling(24).std())\n",
    "df['rolling_std_t62'] = df['Consumption (MWh)'].transform(lambda x: x.shift(38).rolling(48).std())"
   ]
  },
  {
   "cell_type": "code",
   "execution_count": 22,
   "metadata": {
    "execution": {
     "iopub.execute_input": "2020-11-14T14:12:52.462757Z",
     "iopub.status.busy": "2020-11-14T14:12:52.455401Z",
     "iopub.status.idle": "2020-11-14T14:12:52.485456Z",
     "shell.execute_reply": "2020-11-14T14:12:52.486090Z"
    },
    "papermill": {
     "duration": 0.088807,
     "end_time": "2020-11-14T14:12:52.486248",
     "exception": false,
     "start_time": "2020-11-14T14:12:52.397441",
     "status": "completed"
    },
    "tags": []
   },
   "outputs": [
    {
     "data": {
      "text/html": [
       "<div>\n",
       "<style scoped>\n",
       "    .dataframe tbody tr th:only-of-type {\n",
       "        vertical-align: middle;\n",
       "    }\n",
       "\n",
       "    .dataframe tbody tr th {\n",
       "        vertical-align: top;\n",
       "    }\n",
       "\n",
       "    .dataframe thead th {\n",
       "        text-align: right;\n",
       "    }\n",
       "</style>\n",
       "<table border=\"1\" class=\"dataframe\">\n",
       "  <thead>\n",
       "    <tr style=\"text-align: right;\">\n",
       "      <th></th>\n",
       "      <th>Date</th>\n",
       "      <th>Consumption (MWh)</th>\n",
       "      <th>rolling_mean_t41</th>\n",
       "      <th>rolling_mean_t48</th>\n",
       "      <th>rolling_mean_t72</th>\n",
       "      <th>rolling_mean_t168</th>\n",
       "      <th>rolling_mean_t38</th>\n",
       "      <th>rolling_mean_t50</th>\n",
       "      <th>rolling_mean_t62</th>\n",
       "      <th>rolling_median_t38</th>\n",
       "      <th>rolling_median_t50</th>\n",
       "      <th>rolling_median_t62</th>\n",
       "      <th>rolling_std_t38</th>\n",
       "      <th>rolling_std_t50</th>\n",
       "      <th>rolling_std_t62</th>\n",
       "    </tr>\n",
       "  </thead>\n",
       "  <tbody>\n",
       "    <tr>\n",
       "      <th>0</th>\n",
       "      <td>2016-01-01 00:00:00</td>\n",
       "      <td>10.176496</td>\n",
       "      <td>NaN</td>\n",
       "      <td>NaN</td>\n",
       "      <td>NaN</td>\n",
       "      <td>NaN</td>\n",
       "      <td>NaN</td>\n",
       "      <td>NaN</td>\n",
       "      <td>NaN</td>\n",
       "      <td>NaN</td>\n",
       "      <td>NaN</td>\n",
       "      <td>NaN</td>\n",
       "      <td>NaN</td>\n",
       "      <td>NaN</td>\n",
       "      <td>NaN</td>\n",
       "    </tr>\n",
       "    <tr>\n",
       "      <th>1</th>\n",
       "      <td>2016-01-01 01:00:00</td>\n",
       "      <td>10.126344</td>\n",
       "      <td>NaN</td>\n",
       "      <td>NaN</td>\n",
       "      <td>NaN</td>\n",
       "      <td>NaN</td>\n",
       "      <td>NaN</td>\n",
       "      <td>NaN</td>\n",
       "      <td>NaN</td>\n",
       "      <td>NaN</td>\n",
       "      <td>NaN</td>\n",
       "      <td>NaN</td>\n",
       "      <td>NaN</td>\n",
       "      <td>NaN</td>\n",
       "      <td>NaN</td>\n",
       "    </tr>\n",
       "    <tr>\n",
       "      <th>2</th>\n",
       "      <td>2016-01-01 02:00:00</td>\n",
       "      <td>10.066185</td>\n",
       "      <td>NaN</td>\n",
       "      <td>NaN</td>\n",
       "      <td>NaN</td>\n",
       "      <td>NaN</td>\n",
       "      <td>NaN</td>\n",
       "      <td>NaN</td>\n",
       "      <td>NaN</td>\n",
       "      <td>NaN</td>\n",
       "      <td>NaN</td>\n",
       "      <td>NaN</td>\n",
       "      <td>NaN</td>\n",
       "      <td>NaN</td>\n",
       "      <td>NaN</td>\n",
       "    </tr>\n",
       "    <tr>\n",
       "      <th>3</th>\n",
       "      <td>2016-01-01 03:00:00</td>\n",
       "      <td>10.019749</td>\n",
       "      <td>NaN</td>\n",
       "      <td>NaN</td>\n",
       "      <td>NaN</td>\n",
       "      <td>NaN</td>\n",
       "      <td>NaN</td>\n",
       "      <td>NaN</td>\n",
       "      <td>NaN</td>\n",
       "      <td>NaN</td>\n",
       "      <td>NaN</td>\n",
       "      <td>NaN</td>\n",
       "      <td>NaN</td>\n",
       "      <td>NaN</td>\n",
       "      <td>NaN</td>\n",
       "    </tr>\n",
       "    <tr>\n",
       "      <th>4</th>\n",
       "      <td>2016-01-01 04:00:00</td>\n",
       "      <td>9.998975</td>\n",
       "      <td>NaN</td>\n",
       "      <td>NaN</td>\n",
       "      <td>NaN</td>\n",
       "      <td>NaN</td>\n",
       "      <td>NaN</td>\n",
       "      <td>NaN</td>\n",
       "      <td>NaN</td>\n",
       "      <td>NaN</td>\n",
       "      <td>NaN</td>\n",
       "      <td>NaN</td>\n",
       "      <td>NaN</td>\n",
       "      <td>NaN</td>\n",
       "      <td>NaN</td>\n",
       "    </tr>\n",
       "    <tr>\n",
       "      <th>...</th>\n",
       "      <td>...</td>\n",
       "      <td>...</td>\n",
       "      <td>...</td>\n",
       "      <td>...</td>\n",
       "      <td>...</td>\n",
       "      <td>...</td>\n",
       "      <td>...</td>\n",
       "      <td>...</td>\n",
       "      <td>...</td>\n",
       "      <td>...</td>\n",
       "      <td>...</td>\n",
       "      <td>...</td>\n",
       "      <td>...</td>\n",
       "      <td>...</td>\n",
       "      <td>...</td>\n",
       "    </tr>\n",
       "    <tr>\n",
       "      <th>37075</th>\n",
       "      <td>2020-03-24 19:00:00</td>\n",
       "      <td>10.479683</td>\n",
       "      <td>10.158169</td>\n",
       "      <td>10.396895</td>\n",
       "      <td>10.490146</td>\n",
       "      <td>10.572474</td>\n",
       "      <td>10.264401</td>\n",
       "      <td>10.201560</td>\n",
       "      <td>10.268439</td>\n",
       "      <td>10.283881</td>\n",
       "      <td>10.156630</td>\n",
       "      <td>10.263716</td>\n",
       "      <td>0.107235</td>\n",
       "      <td>0.106024</td>\n",
       "      <td>0.120718</td>\n",
       "    </tr>\n",
       "    <tr>\n",
       "      <th>37076</th>\n",
       "      <td>2020-03-24 20:00:00</td>\n",
       "      <td>10.468543</td>\n",
       "      <td>10.134094</td>\n",
       "      <td>10.403032</td>\n",
       "      <td>10.494903</td>\n",
       "      <td>10.565442</td>\n",
       "      <td>10.249979</td>\n",
       "      <td>10.201589</td>\n",
       "      <td>10.266187</td>\n",
       "      <td>10.228301</td>\n",
       "      <td>10.156966</td>\n",
       "      <td>10.261821</td>\n",
       "      <td>0.109399</td>\n",
       "      <td>0.106011</td>\n",
       "      <td>0.121809</td>\n",
       "    </tr>\n",
       "    <tr>\n",
       "      <th>37077</th>\n",
       "      <td>2020-03-24 21:00:00</td>\n",
       "      <td>10.439646</td>\n",
       "      <td>10.129021</td>\n",
       "      <td>10.368976</td>\n",
       "      <td>10.464276</td>\n",
       "      <td>10.537836</td>\n",
       "      <td>10.231135</td>\n",
       "      <td>10.205125</td>\n",
       "      <td>10.264767</td>\n",
       "      <td>10.184831</td>\n",
       "      <td>10.164465</td>\n",
       "      <td>10.261821</td>\n",
       "      <td>0.100941</td>\n",
       "      <td>0.103366</td>\n",
       "      <td>0.122528</td>\n",
       "    </tr>\n",
       "    <tr>\n",
       "      <th>37078</th>\n",
       "      <td>2020-03-24 22:00:00</td>\n",
       "      <td>10.419491</td>\n",
       "      <td>10.141702</td>\n",
       "      <td>10.345436</td>\n",
       "      <td>10.426128</td>\n",
       "      <td>10.501170</td>\n",
       "      <td>10.224275</td>\n",
       "      <td>10.215967</td>\n",
       "      <td>10.265105</td>\n",
       "      <td>10.184831</td>\n",
       "      <td>10.171519</td>\n",
       "      <td>10.261821</td>\n",
       "      <td>0.090449</td>\n",
       "      <td>0.101161</td>\n",
       "      <td>0.122662</td>\n",
       "    </tr>\n",
       "    <tr>\n",
       "      <th>37079</th>\n",
       "      <td>2020-03-24 23:00:00</td>\n",
       "      <td>10.374198</td>\n",
       "      <td>10.155763</td>\n",
       "      <td>10.310060</td>\n",
       "      <td>10.388948</td>\n",
       "      <td>10.451028</td>\n",
       "      <td>10.225796</td>\n",
       "      <td>10.229460</td>\n",
       "      <td>10.265967</td>\n",
       "      <td>10.184831</td>\n",
       "      <td>10.185589</td>\n",
       "      <td>10.261821</td>\n",
       "      <td>0.093214</td>\n",
       "      <td>0.101521</td>\n",
       "      <td>0.123385</td>\n",
       "    </tr>\n",
       "  </tbody>\n",
       "</table>\n",
       "<p>37080 rows × 15 columns</p>\n",
       "</div>"
      ],
      "text/plain": [
       "                     Date  Consumption (MWh)  rolling_mean_t41  \\\n",
       "0     2016-01-01 00:00:00          10.176496               NaN   \n",
       "1     2016-01-01 01:00:00          10.126344               NaN   \n",
       "2     2016-01-01 02:00:00          10.066185               NaN   \n",
       "3     2016-01-01 03:00:00          10.019749               NaN   \n",
       "4     2016-01-01 04:00:00           9.998975               NaN   \n",
       "...                   ...                ...               ...   \n",
       "37075 2020-03-24 19:00:00          10.479683         10.158169   \n",
       "37076 2020-03-24 20:00:00          10.468543         10.134094   \n",
       "37077 2020-03-24 21:00:00          10.439646         10.129021   \n",
       "37078 2020-03-24 22:00:00          10.419491         10.141702   \n",
       "37079 2020-03-24 23:00:00          10.374198         10.155763   \n",
       "\n",
       "       rolling_mean_t48  rolling_mean_t72  rolling_mean_t168  \\\n",
       "0                   NaN               NaN                NaN   \n",
       "1                   NaN               NaN                NaN   \n",
       "2                   NaN               NaN                NaN   \n",
       "3                   NaN               NaN                NaN   \n",
       "4                   NaN               NaN                NaN   \n",
       "...                 ...               ...                ...   \n",
       "37075         10.396895         10.490146          10.572474   \n",
       "37076         10.403032         10.494903          10.565442   \n",
       "37077         10.368976         10.464276          10.537836   \n",
       "37078         10.345436         10.426128          10.501170   \n",
       "37079         10.310060         10.388948          10.451028   \n",
       "\n",
       "       rolling_mean_t38  rolling_mean_t50  rolling_mean_t62  \\\n",
       "0                   NaN               NaN               NaN   \n",
       "1                   NaN               NaN               NaN   \n",
       "2                   NaN               NaN               NaN   \n",
       "3                   NaN               NaN               NaN   \n",
       "4                   NaN               NaN               NaN   \n",
       "...                 ...               ...               ...   \n",
       "37075         10.264401         10.201560         10.268439   \n",
       "37076         10.249979         10.201589         10.266187   \n",
       "37077         10.231135         10.205125         10.264767   \n",
       "37078         10.224275         10.215967         10.265105   \n",
       "37079         10.225796         10.229460         10.265967   \n",
       "\n",
       "       rolling_median_t38  rolling_median_t50  rolling_median_t62  \\\n",
       "0                     NaN                 NaN                 NaN   \n",
       "1                     NaN                 NaN                 NaN   \n",
       "2                     NaN                 NaN                 NaN   \n",
       "3                     NaN                 NaN                 NaN   \n",
       "4                     NaN                 NaN                 NaN   \n",
       "...                   ...                 ...                 ...   \n",
       "37075           10.283881           10.156630           10.263716   \n",
       "37076           10.228301           10.156966           10.261821   \n",
       "37077           10.184831           10.164465           10.261821   \n",
       "37078           10.184831           10.171519           10.261821   \n",
       "37079           10.184831           10.185589           10.261821   \n",
       "\n",
       "       rolling_std_t38  rolling_std_t50  rolling_std_t62  \n",
       "0                  NaN              NaN              NaN  \n",
       "1                  NaN              NaN              NaN  \n",
       "2                  NaN              NaN              NaN  \n",
       "3                  NaN              NaN              NaN  \n",
       "4                  NaN              NaN              NaN  \n",
       "...                ...              ...              ...  \n",
       "37075         0.107235         0.106024         0.120718  \n",
       "37076         0.109399         0.106011         0.121809  \n",
       "37077         0.100941         0.103366         0.122528  \n",
       "37078         0.090449         0.101161         0.122662  \n",
       "37079         0.093214         0.101521         0.123385  \n",
       "\n",
       "[37080 rows x 15 columns]"
      ]
     },
     "execution_count": 22,
     "metadata": {},
     "output_type": "execute_result"
    }
   ],
   "source": [
    "df"
   ]
  },
  {
   "cell_type": "code",
   "execution_count": 23,
   "metadata": {
    "execution": {
     "iopub.execute_input": "2020-11-14T14:12:52.598906Z",
     "iopub.status.busy": "2020-11-14T14:12:52.598150Z",
     "iopub.status.idle": "2020-11-14T14:12:52.619179Z",
     "shell.execute_reply": "2020-11-14T14:12:52.618379Z"
    },
    "papermill": {
     "duration": 0.079303,
     "end_time": "2020-11-14T14:12:52.619317",
     "exception": false,
     "start_time": "2020-11-14T14:12:52.540014",
     "status": "completed"
    },
    "tags": []
   },
   "outputs": [],
   "source": [
    "df = df.dropna(axis=0, how='any').reset_index(drop=True)"
   ]
  },
  {
   "cell_type": "markdown",
   "metadata": {
    "papermill": {
     "duration": 0.052892,
     "end_time": "2020-11-14T14:12:52.724929",
     "exception": false,
     "start_time": "2020-11-14T14:12:52.672037",
     "status": "completed"
    },
    "tags": []
   },
   "source": [
    "### Time Features"
   ]
  },
  {
   "cell_type": "code",
   "execution_count": 24,
   "metadata": {
    "execution": {
     "iopub.execute_input": "2020-11-14T14:12:52.842972Z",
     "iopub.status.busy": "2020-11-14T14:12:52.842207Z",
     "iopub.status.idle": "2020-11-14T14:12:52.885880Z",
     "shell.execute_reply": "2020-11-14T14:12:52.885061Z"
    },
    "papermill": {
     "duration": 0.108939,
     "end_time": "2020-11-14T14:12:52.886041",
     "exception": false,
     "start_time": "2020-11-14T14:12:52.777102",
     "status": "completed"
    },
    "tags": []
   },
   "outputs": [],
   "source": [
    "df['hourofday'] = df['Date'].dt.hour\n",
    "df['quarter'] = df['Date'].dt.quarter\n",
    "df['month'] = df['Date'].dt.month\n",
    "df['year'] = df['Date'].dt.year\n",
    "df['dayofyear'] = df['Date'].dt.dayofyear\n",
    "df['dayofmonth'] = df['Date'].dt.day\n",
    "df['weekofyear'] = df['Date'].dt.weekofyear\n",
    "df['days_in_month'] = df['Date'].dt.days_in_month"
   ]
  },
  {
   "cell_type": "code",
   "execution_count": 25,
   "metadata": {
    "execution": {
     "iopub.execute_input": "2020-11-14T14:12:53.001202Z",
     "iopub.status.busy": "2020-11-14T14:12:53.000409Z",
     "iopub.status.idle": "2020-11-14T14:12:53.031320Z",
     "shell.execute_reply": "2020-11-14T14:12:53.030510Z"
    },
    "papermill": {
     "duration": 0.089378,
     "end_time": "2020-11-14T14:12:53.031446",
     "exception": false,
     "start_time": "2020-11-14T14:12:52.942068",
     "status": "completed"
    },
    "tags": []
   },
   "outputs": [
    {
     "data": {
      "text/html": [
       "<div>\n",
       "<style scoped>\n",
       "    .dataframe tbody tr th:only-of-type {\n",
       "        vertical-align: middle;\n",
       "    }\n",
       "\n",
       "    .dataframe tbody tr th {\n",
       "        vertical-align: top;\n",
       "    }\n",
       "\n",
       "    .dataframe thead th {\n",
       "        text-align: right;\n",
       "    }\n",
       "</style>\n",
       "<table border=\"1\" class=\"dataframe\">\n",
       "  <thead>\n",
       "    <tr style=\"text-align: right;\">\n",
       "      <th></th>\n",
       "      <th>Date</th>\n",
       "      <th>Consumption (MWh)</th>\n",
       "      <th>rolling_mean_t41</th>\n",
       "      <th>rolling_mean_t48</th>\n",
       "      <th>rolling_mean_t72</th>\n",
       "      <th>rolling_mean_t168</th>\n",
       "      <th>rolling_mean_t38</th>\n",
       "      <th>rolling_mean_t50</th>\n",
       "      <th>rolling_mean_t62</th>\n",
       "      <th>rolling_median_t38</th>\n",
       "      <th>...</th>\n",
       "      <th>rolling_std_t50</th>\n",
       "      <th>rolling_std_t62</th>\n",
       "      <th>hourofday</th>\n",
       "      <th>quarter</th>\n",
       "      <th>month</th>\n",
       "      <th>year</th>\n",
       "      <th>dayofyear</th>\n",
       "      <th>dayofmonth</th>\n",
       "      <th>weekofyear</th>\n",
       "      <th>days_in_month</th>\n",
       "    </tr>\n",
       "  </thead>\n",
       "  <tbody>\n",
       "    <tr>\n",
       "      <th>0</th>\n",
       "      <td>2016-01-08 00:00:00</td>\n",
       "      <td>10.261268</td>\n",
       "      <td>10.258853</td>\n",
       "      <td>10.281591</td>\n",
       "      <td>10.283477</td>\n",
       "      <td>10.176496</td>\n",
       "      <td>10.286262</td>\n",
       "      <td>10.397811</td>\n",
       "      <td>10.405176</td>\n",
       "      <td>10.242484</td>\n",
       "      <td>...</td>\n",
       "      <td>0.151209</td>\n",
       "      <td>0.155102</td>\n",
       "      <td>0</td>\n",
       "      <td>1</td>\n",
       "      <td>1</td>\n",
       "      <td>2016</td>\n",
       "      <td>8</td>\n",
       "      <td>8</td>\n",
       "      <td>1</td>\n",
       "      <td>31</td>\n",
       "    </tr>\n",
       "    <tr>\n",
       "      <th>1</th>\n",
       "      <td>2016-01-08 01:00:00</td>\n",
       "      <td>10.207782</td>\n",
       "      <td>10.410436</td>\n",
       "      <td>10.226115</td>\n",
       "      <td>10.226955</td>\n",
       "      <td>10.126344</td>\n",
       "      <td>10.301210</td>\n",
       "      <td>10.396919</td>\n",
       "      <td>10.404201</td>\n",
       "      <td>10.242484</td>\n",
       "      <td>...</td>\n",
       "      <td>0.150254</td>\n",
       "      <td>0.154070</td>\n",
       "      <td>1</td>\n",
       "      <td>1</td>\n",
       "      <td>1</td>\n",
       "      <td>2016</td>\n",
       "      <td>8</td>\n",
       "      <td>8</td>\n",
       "      <td>1</td>\n",
       "      <td>31</td>\n",
       "    </tr>\n",
       "    <tr>\n",
       "      <th>2</th>\n",
       "      <td>2016-01-08 02:00:00</td>\n",
       "      <td>10.164941</td>\n",
       "      <td>10.498421</td>\n",
       "      <td>10.187913</td>\n",
       "      <td>10.178722</td>\n",
       "      <td>10.066185</td>\n",
       "      <td>10.319135</td>\n",
       "      <td>10.395417</td>\n",
       "      <td>10.402959</td>\n",
       "      <td>10.242484</td>\n",
       "      <td>...</td>\n",
       "      <td>0.149013</td>\n",
       "      <td>0.153056</td>\n",
       "      <td>2</td>\n",
       "      <td>1</td>\n",
       "      <td>1</td>\n",
       "      <td>2016</td>\n",
       "      <td>8</td>\n",
       "      <td>8</td>\n",
       "      <td>1</td>\n",
       "      <td>31</td>\n",
       "    </tr>\n",
       "    <tr>\n",
       "      <th>3</th>\n",
       "      <td>2016-01-08 03:00:00</td>\n",
       "      <td>10.139214</td>\n",
       "      <td>10.524438</td>\n",
       "      <td>10.155032</td>\n",
       "      <td>10.160887</td>\n",
       "      <td>10.019749</td>\n",
       "      <td>10.342480</td>\n",
       "      <td>10.393985</td>\n",
       "      <td>10.401455</td>\n",
       "      <td>10.334645</td>\n",
       "      <td>...</td>\n",
       "      <td>0.147716</td>\n",
       "      <td>0.151642</td>\n",
       "      <td>3</td>\n",
       "      <td>1</td>\n",
       "      <td>1</td>\n",
       "      <td>2016</td>\n",
       "      <td>8</td>\n",
       "      <td>8</td>\n",
       "      <td>1</td>\n",
       "      <td>31</td>\n",
       "    </tr>\n",
       "    <tr>\n",
       "      <th>4</th>\n",
       "      <td>2016-01-08 04:00:00</td>\n",
       "      <td>10.131784</td>\n",
       "      <td>10.541274</td>\n",
       "      <td>10.160670</td>\n",
       "      <td>10.164931</td>\n",
       "      <td>9.998975</td>\n",
       "      <td>10.369701</td>\n",
       "      <td>10.392607</td>\n",
       "      <td>10.399921</td>\n",
       "      <td>10.453558</td>\n",
       "      <td>...</td>\n",
       "      <td>0.146369</td>\n",
       "      <td>0.150078</td>\n",
       "      <td>4</td>\n",
       "      <td>1</td>\n",
       "      <td>1</td>\n",
       "      <td>2016</td>\n",
       "      <td>8</td>\n",
       "      <td>8</td>\n",
       "      <td>1</td>\n",
       "      <td>31</td>\n",
       "    </tr>\n",
       "  </tbody>\n",
       "</table>\n",
       "<p>5 rows × 23 columns</p>\n",
       "</div>"
      ],
      "text/plain": [
       "                 Date  Consumption (MWh)  rolling_mean_t41  rolling_mean_t48  \\\n",
       "0 2016-01-08 00:00:00          10.261268         10.258853         10.281591   \n",
       "1 2016-01-08 01:00:00          10.207782         10.410436         10.226115   \n",
       "2 2016-01-08 02:00:00          10.164941         10.498421         10.187913   \n",
       "3 2016-01-08 03:00:00          10.139214         10.524438         10.155032   \n",
       "4 2016-01-08 04:00:00          10.131784         10.541274         10.160670   \n",
       "\n",
       "   rolling_mean_t72  rolling_mean_t168  rolling_mean_t38  rolling_mean_t50  \\\n",
       "0         10.283477          10.176496         10.286262         10.397811   \n",
       "1         10.226955          10.126344         10.301210         10.396919   \n",
       "2         10.178722          10.066185         10.319135         10.395417   \n",
       "3         10.160887          10.019749         10.342480         10.393985   \n",
       "4         10.164931           9.998975         10.369701         10.392607   \n",
       "\n",
       "   rolling_mean_t62  rolling_median_t38  ...  rolling_std_t50  \\\n",
       "0         10.405176           10.242484  ...         0.151209   \n",
       "1         10.404201           10.242484  ...         0.150254   \n",
       "2         10.402959           10.242484  ...         0.149013   \n",
       "3         10.401455           10.334645  ...         0.147716   \n",
       "4         10.399921           10.453558  ...         0.146369   \n",
       "\n",
       "   rolling_std_t62  hourofday  quarter  month  year  dayofyear  dayofmonth  \\\n",
       "0         0.155102          0        1      1  2016          8           8   \n",
       "1         0.154070          1        1      1  2016          8           8   \n",
       "2         0.153056          2        1      1  2016          8           8   \n",
       "3         0.151642          3        1      1  2016          8           8   \n",
       "4         0.150078          4        1      1  2016          8           8   \n",
       "\n",
       "   weekofyear  days_in_month  \n",
       "0           1             31  \n",
       "1           1             31  \n",
       "2           1             31  \n",
       "3           1             31  \n",
       "4           1             31  \n",
       "\n",
       "[5 rows x 23 columns]"
      ]
     },
     "execution_count": 25,
     "metadata": {},
     "output_type": "execute_result"
    }
   ],
   "source": [
    "df.head()"
   ]
  },
  {
   "cell_type": "code",
   "execution_count": 26,
   "metadata": {
    "execution": {
     "iopub.execute_input": "2020-11-14T14:12:53.164665Z",
     "iopub.status.busy": "2020-11-14T14:12:53.158650Z",
     "iopub.status.idle": "2020-11-14T14:12:53.175151Z",
     "shell.execute_reply": "2020-11-14T14:12:53.174363Z"
    },
    "papermill": {
     "duration": 0.088686,
     "end_time": "2020-11-14T14:12:53.175278",
     "exception": false,
     "start_time": "2020-11-14T14:12:53.086592",
     "status": "completed"
    },
    "tags": []
   },
   "outputs": [
    {
     "data": {
      "text/html": [
       "<div>\n",
       "<style scoped>\n",
       "    .dataframe tbody tr th:only-of-type {\n",
       "        vertical-align: middle;\n",
       "    }\n",
       "\n",
       "    .dataframe tbody tr th {\n",
       "        vertical-align: top;\n",
       "    }\n",
       "\n",
       "    .dataframe thead th {\n",
       "        text-align: right;\n",
       "    }\n",
       "</style>\n",
       "<table border=\"1\" class=\"dataframe\">\n",
       "  <thead>\n",
       "    <tr style=\"text-align: right;\">\n",
       "      <th></th>\n",
       "      <th>Date</th>\n",
       "      <th>Consumption (MWh)</th>\n",
       "      <th>rolling_mean_t41</th>\n",
       "      <th>rolling_mean_t48</th>\n",
       "      <th>rolling_mean_t72</th>\n",
       "      <th>rolling_mean_t168</th>\n",
       "      <th>rolling_mean_t38</th>\n",
       "      <th>rolling_mean_t50</th>\n",
       "      <th>rolling_mean_t62</th>\n",
       "      <th>rolling_median_t38</th>\n",
       "      <th>...</th>\n",
       "      <th>rolling_std_t50</th>\n",
       "      <th>rolling_std_t62</th>\n",
       "      <th>hourofday</th>\n",
       "      <th>quarter</th>\n",
       "      <th>month</th>\n",
       "      <th>year</th>\n",
       "      <th>dayofyear</th>\n",
       "      <th>dayofmonth</th>\n",
       "      <th>weekofyear</th>\n",
       "      <th>days_in_month</th>\n",
       "    </tr>\n",
       "  </thead>\n",
       "  <tbody>\n",
       "    <tr>\n",
       "      <th>36907</th>\n",
       "      <td>2020-03-24 19:00:00</td>\n",
       "      <td>10.479683</td>\n",
       "      <td>10.158169</td>\n",
       "      <td>10.396895</td>\n",
       "      <td>10.490146</td>\n",
       "      <td>10.572474</td>\n",
       "      <td>10.264401</td>\n",
       "      <td>10.201560</td>\n",
       "      <td>10.268439</td>\n",
       "      <td>10.283881</td>\n",
       "      <td>...</td>\n",
       "      <td>0.106024</td>\n",
       "      <td>0.120718</td>\n",
       "      <td>19</td>\n",
       "      <td>1</td>\n",
       "      <td>3</td>\n",
       "      <td>2020</td>\n",
       "      <td>84</td>\n",
       "      <td>24</td>\n",
       "      <td>13</td>\n",
       "      <td>31</td>\n",
       "    </tr>\n",
       "    <tr>\n",
       "      <th>36908</th>\n",
       "      <td>2020-03-24 20:00:00</td>\n",
       "      <td>10.468543</td>\n",
       "      <td>10.134094</td>\n",
       "      <td>10.403032</td>\n",
       "      <td>10.494903</td>\n",
       "      <td>10.565442</td>\n",
       "      <td>10.249979</td>\n",
       "      <td>10.201589</td>\n",
       "      <td>10.266187</td>\n",
       "      <td>10.228301</td>\n",
       "      <td>...</td>\n",
       "      <td>0.106011</td>\n",
       "      <td>0.121809</td>\n",
       "      <td>20</td>\n",
       "      <td>1</td>\n",
       "      <td>3</td>\n",
       "      <td>2020</td>\n",
       "      <td>84</td>\n",
       "      <td>24</td>\n",
       "      <td>13</td>\n",
       "      <td>31</td>\n",
       "    </tr>\n",
       "    <tr>\n",
       "      <th>36909</th>\n",
       "      <td>2020-03-24 21:00:00</td>\n",
       "      <td>10.439646</td>\n",
       "      <td>10.129021</td>\n",
       "      <td>10.368976</td>\n",
       "      <td>10.464276</td>\n",
       "      <td>10.537836</td>\n",
       "      <td>10.231135</td>\n",
       "      <td>10.205125</td>\n",
       "      <td>10.264767</td>\n",
       "      <td>10.184831</td>\n",
       "      <td>...</td>\n",
       "      <td>0.103366</td>\n",
       "      <td>0.122528</td>\n",
       "      <td>21</td>\n",
       "      <td>1</td>\n",
       "      <td>3</td>\n",
       "      <td>2020</td>\n",
       "      <td>84</td>\n",
       "      <td>24</td>\n",
       "      <td>13</td>\n",
       "      <td>31</td>\n",
       "    </tr>\n",
       "    <tr>\n",
       "      <th>36910</th>\n",
       "      <td>2020-03-24 22:00:00</td>\n",
       "      <td>10.419491</td>\n",
       "      <td>10.141702</td>\n",
       "      <td>10.345436</td>\n",
       "      <td>10.426128</td>\n",
       "      <td>10.501170</td>\n",
       "      <td>10.224275</td>\n",
       "      <td>10.215967</td>\n",
       "      <td>10.265105</td>\n",
       "      <td>10.184831</td>\n",
       "      <td>...</td>\n",
       "      <td>0.101161</td>\n",
       "      <td>0.122662</td>\n",
       "      <td>22</td>\n",
       "      <td>1</td>\n",
       "      <td>3</td>\n",
       "      <td>2020</td>\n",
       "      <td>84</td>\n",
       "      <td>24</td>\n",
       "      <td>13</td>\n",
       "      <td>31</td>\n",
       "    </tr>\n",
       "    <tr>\n",
       "      <th>36911</th>\n",
       "      <td>2020-03-24 23:00:00</td>\n",
       "      <td>10.374198</td>\n",
       "      <td>10.155763</td>\n",
       "      <td>10.310060</td>\n",
       "      <td>10.388948</td>\n",
       "      <td>10.451028</td>\n",
       "      <td>10.225796</td>\n",
       "      <td>10.229460</td>\n",
       "      <td>10.265967</td>\n",
       "      <td>10.184831</td>\n",
       "      <td>...</td>\n",
       "      <td>0.101521</td>\n",
       "      <td>0.123385</td>\n",
       "      <td>23</td>\n",
       "      <td>1</td>\n",
       "      <td>3</td>\n",
       "      <td>2020</td>\n",
       "      <td>84</td>\n",
       "      <td>24</td>\n",
       "      <td>13</td>\n",
       "      <td>31</td>\n",
       "    </tr>\n",
       "  </tbody>\n",
       "</table>\n",
       "<p>5 rows × 23 columns</p>\n",
       "</div>"
      ],
      "text/plain": [
       "                     Date  Consumption (MWh)  rolling_mean_t41  \\\n",
       "36907 2020-03-24 19:00:00          10.479683         10.158169   \n",
       "36908 2020-03-24 20:00:00          10.468543         10.134094   \n",
       "36909 2020-03-24 21:00:00          10.439646         10.129021   \n",
       "36910 2020-03-24 22:00:00          10.419491         10.141702   \n",
       "36911 2020-03-24 23:00:00          10.374198         10.155763   \n",
       "\n",
       "       rolling_mean_t48  rolling_mean_t72  rolling_mean_t168  \\\n",
       "36907         10.396895         10.490146          10.572474   \n",
       "36908         10.403032         10.494903          10.565442   \n",
       "36909         10.368976         10.464276          10.537836   \n",
       "36910         10.345436         10.426128          10.501170   \n",
       "36911         10.310060         10.388948          10.451028   \n",
       "\n",
       "       rolling_mean_t38  rolling_mean_t50  rolling_mean_t62  \\\n",
       "36907         10.264401         10.201560         10.268439   \n",
       "36908         10.249979         10.201589         10.266187   \n",
       "36909         10.231135         10.205125         10.264767   \n",
       "36910         10.224275         10.215967         10.265105   \n",
       "36911         10.225796         10.229460         10.265967   \n",
       "\n",
       "       rolling_median_t38  ...  rolling_std_t50  rolling_std_t62  hourofday  \\\n",
       "36907           10.283881  ...         0.106024         0.120718         19   \n",
       "36908           10.228301  ...         0.106011         0.121809         20   \n",
       "36909           10.184831  ...         0.103366         0.122528         21   \n",
       "36910           10.184831  ...         0.101161         0.122662         22   \n",
       "36911           10.184831  ...         0.101521         0.123385         23   \n",
       "\n",
       "       quarter  month  year  dayofyear  dayofmonth  weekofyear  days_in_month  \n",
       "36907        1      3  2020         84          24          13             31  \n",
       "36908        1      3  2020         84          24          13             31  \n",
       "36909        1      3  2020         84          24          13             31  \n",
       "36910        1      3  2020         84          24          13             31  \n",
       "36911        1      3  2020         84          24          13             31  \n",
       "\n",
       "[5 rows x 23 columns]"
      ]
     },
     "execution_count": 26,
     "metadata": {},
     "output_type": "execute_result"
    }
   ],
   "source": [
    "df.tail()"
   ]
  },
  {
   "cell_type": "markdown",
   "metadata": {
    "papermill": {
     "duration": 0.055191,
     "end_time": "2020-11-14T14:12:53.285367",
     "exception": false,
     "start_time": "2020-11-14T14:12:53.230176",
     "status": "completed"
    },
    "tags": []
   },
   "source": [
    "### Train-Test Split"
   ]
  },
  {
   "cell_type": "code",
   "execution_count": 27,
   "metadata": {
    "execution": {
     "iopub.execute_input": "2020-11-14T14:12:53.402729Z",
     "iopub.status.busy": "2020-11-14T14:12:53.401921Z",
     "iopub.status.idle": "2020-11-14T14:12:53.431795Z",
     "shell.execute_reply": "2020-11-14T14:12:53.431115Z"
    },
    "papermill": {
     "duration": 0.091742,
     "end_time": "2020-11-14T14:12:53.431923",
     "exception": false,
     "start_time": "2020-11-14T14:12:53.340181",
     "status": "completed"
    },
    "tags": []
   },
   "outputs": [],
   "source": [
    "split_date = '01-Jan-2016'\n",
    "split_date1 = '01-Jan-2020'\n",
    "split_date2 = '14-Mar-2020'\n",
    "split_date3 = '15-Mar-2020'\n",
    "df_train = df.set_index('Date').loc[split_date:'31-Dec-2019', :].reset_index()\n",
    "df_test = df.set_index('Date').loc[split_date1:split_date2, :].reset_index()"
   ]
  },
  {
   "cell_type": "code",
   "execution_count": 28,
   "metadata": {
    "execution": {
     "iopub.execute_input": "2020-11-14T14:12:53.555324Z",
     "iopub.status.busy": "2020-11-14T14:12:53.554151Z",
     "iopub.status.idle": "2020-11-14T14:12:54.497237Z",
     "shell.execute_reply": "2020-11-14T14:12:54.497839Z"
    },
    "papermill": {
     "duration": 1.011303,
     "end_time": "2020-11-14T14:12:54.498034",
     "exception": false,
     "start_time": "2020-11-14T14:12:53.486731",
     "status": "completed"
    },
    "tags": []
   },
   "outputs": [
    {
     "data": {
      "image/png": "[encoded data removed]",
      "text/plain": [
       "<Figure size 1800x360 with 1 Axes>"
      ]
     },
     "metadata": {},
     "output_type": "display_data"
    }
   ],
   "source": [
    "df_test[['Date','Consumption (MWh)']].set_index('Date').rename(columns={'Consumption (MWh)': 'TEST SET'})\\\n",
    "        .join(df_train[['Date','Consumption (MWh)']].set_index('Date')\\\n",
    "              .rename(columns={'Consumption (MWh)': 'TRAINING SET'}),how='outer').plot(figsize=(25,5), title='Tüketim Miktarı (MWh)', style='.')\n",
    "plt.ylim(9.8, 10.8)\n",
    "plt.show()"
   ]
  },
  {
   "cell_type": "code",
   "execution_count": 29,
   "metadata": {
    "execution": {
     "iopub.execute_input": "2020-11-14T14:12:54.625202Z",
     "iopub.status.busy": "2020-11-14T14:12:54.624134Z",
     "iopub.status.idle": "2020-11-14T14:12:56.255714Z",
     "shell.execute_reply": "2020-11-14T14:12:56.255050Z"
    },
    "papermill": {
     "duration": 1.696593,
     "end_time": "2020-11-14T14:12:56.255844",
     "exception": false,
     "start_time": "2020-11-14T14:12:54.559251",
     "status": "completed"
    },
    "tags": []
   },
   "outputs": [],
   "source": [
    "df_train.to_csv('energy_cons_train.csv', index = None) #Keeping the train and test data for another notebook :)\n",
    "df_test.to_csv('energy_cons_test.csv', index = None)"
   ]
  },
  {
   "cell_type": "code",
   "execution_count": 30,
   "metadata": {
    "execution": {
     "iopub.execute_input": "2020-11-14T14:12:56.387692Z",
     "iopub.status.busy": "2020-11-14T14:12:56.386909Z",
     "iopub.status.idle": "2020-11-14T14:12:56.390237Z",
     "shell.execute_reply": "2020-11-14T14:12:56.389494Z"
    },
    "papermill": {
     "duration": 0.073529,
     "end_time": "2020-11-14T14:12:56.390369",
     "exception": false,
     "start_time": "2020-11-14T14:12:56.316840",
     "status": "completed"
    },
    "tags": []
   },
   "outputs": [],
   "source": [
    "df_train = df_train.drop(['Date'], axis=1)\n",
    "df_test = df_test.drop(['Date'], axis=1)"
   ]
  },
  {
   "cell_type": "markdown",
   "metadata": {
    "papermill": {
     "duration": 0.059855,
     "end_time": "2020-11-14T14:12:56.510638",
     "exception": false,
     "start_time": "2020-11-14T14:12:56.450783",
     "status": "completed"
    },
    "tags": []
   },
   "source": [
    "## The Model"
   ]
  },
  {
   "cell_type": "code",
   "execution_count": 31,
   "metadata": {
    "execution": {
     "iopub.execute_input": "2020-11-14T14:12:56.642269Z",
     "iopub.status.busy": "2020-11-14T14:12:56.641306Z",
     "iopub.status.idle": "2020-11-14T14:12:56.644628Z",
     "shell.execute_reply": "2020-11-14T14:12:56.643867Z"
    },
    "papermill": {
     "duration": 0.073248,
     "end_time": "2020-11-14T14:12:56.644752",
     "exception": false,
     "start_time": "2020-11-14T14:12:56.571504",
     "status": "completed"
    },
    "tags": []
   },
   "outputs": [],
   "source": [
    "def percentage_error(actual, predicted):\n",
    "    res = np.empty(actual.shape)\n",
    "    for j in range(actual.shape[0]):\n",
    "        if actual[j] != 0:\n",
    "            res[j] = (actual[j] - predicted[j]) / actual[j]\n",
    "        else:\n",
    "            res[j] = predicted[j] / np.mean(actual)\n",
    "    return res\n",
    "\n",
    "def mean_absolute_percentage_error(y_true, y_pred): \n",
    "    return np.mean(np.abs(percentage_error(np.asarray(y_true), np.asarray(y_pred)))) * 100"
   ]
  },
  {
   "cell_type": "code",
   "execution_count": 32,
   "metadata": {
    "execution": {
     "iopub.execute_input": "2020-11-14T14:12:56.773219Z",
     "iopub.status.busy": "2020-11-14T14:12:56.772436Z",
     "iopub.status.idle": "2020-11-14T14:12:56.776877Z",
     "shell.execute_reply": "2020-11-14T14:12:56.776255Z"
    },
    "papermill": {
     "duration": 0.07096,
     "end_time": "2020-11-14T14:12:56.777018",
     "exception": false,
     "start_time": "2020-11-14T14:12:56.706058",
     "status": "completed"
    },
    "tags": []
   },
   "outputs": [
    {
     "name": "stdout",
     "output_type": "stream",
     "text": [
      "(34896, 22) (1776, 22)\n"
     ]
    }
   ],
   "source": [
    "print(df_train.shape, df_test.shape) "
   ]
  },
  {
   "cell_type": "code",
   "execution_count": 33,
   "metadata": {
    "execution": {
     "iopub.execute_input": "2020-11-14T14:12:56.909550Z",
     "iopub.status.busy": "2020-11-14T14:12:56.908688Z",
     "iopub.status.idle": "2020-11-14T14:12:56.917070Z",
     "shell.execute_reply": "2020-11-14T14:12:56.916288Z"
    },
    "papermill": {
     "duration": 0.078503,
     "end_time": "2020-11-14T14:12:56.917198",
     "exception": false,
     "start_time": "2020-11-14T14:12:56.838695",
     "status": "completed"
    },
    "tags": []
   },
   "outputs": [],
   "source": [
    "y_train = df_train['Consumption (MWh)'].values\n",
    "X_train = df_train.drop('Consumption (MWh)', axis=1).values\n",
    "\n",
    "y_test = df_test['Consumption (MWh)'].values\n",
    "X_test = df_test.drop('Consumption (MWh)', axis=1).values"
   ]
  },
  {
   "cell_type": "code",
   "execution_count": 34,
   "metadata": {
    "execution": {
     "iopub.execute_input": "2020-11-14T14:12:57.047161Z",
     "iopub.status.busy": "2020-11-14T14:12:57.046209Z",
     "iopub.status.idle": "2020-11-14T14:12:57.220161Z",
     "shell.execute_reply": "2020-11-14T14:12:57.219339Z"
    },
    "papermill": {
     "duration": 0.24179,
     "end_time": "2020-11-14T14:12:57.220295",
     "exception": false,
     "start_time": "2020-11-14T14:12:56.978505",
     "status": "completed"
    },
    "tags": []
   },
   "outputs": [],
   "source": [
    "from sklearn.metrics import mean_absolute_error\n",
    "from sklearn.metrics import mean_squared_error\n",
    "#!pip install lightgbm\n",
    "from lightgbm import LGBMRegressor"
   ]
  },
  {
   "cell_type": "code",
   "execution_count": 35,
   "metadata": {
    "execution": {
     "iopub.execute_input": "2020-11-14T14:12:57.353231Z",
     "iopub.status.busy": "2020-11-14T14:12:57.352456Z",
     "iopub.status.idle": "2020-11-14T14:12:59.269632Z",
     "shell.execute_reply": "2020-11-14T14:12:59.270852Z"
    },
    "papermill": {
     "duration": 1.988907,
     "end_time": "2020-11-14T14:12:59.271084",
     "exception": false,
     "start_time": "2020-11-14T14:12:57.282177",
     "status": "completed"
    },
    "tags": []
   },
   "outputs": [
    {
     "name": "stdout",
     "output_type": "stream",
     "text": [
      "Training until validation scores don't improve for 15 rounds\n",
      "[20]\ttraining's rmse: 0.14446\tvalid_1's rmse: 0.123812\n",
      "[40]\ttraining's rmse: 0.130438\tvalid_1's rmse: 0.107061\n",
      "[60]\ttraining's rmse: 0.119715\tvalid_1's rmse: 0.0942807\n",
      "[80]\ttraining's rmse: 0.111582\tvalid_1's rmse: 0.0844054\n",
      "[100]\ttraining's rmse: 0.105413\tvalid_1's rmse: 0.0770641\n",
      "[120]\ttraining's rmse: 0.100738\tvalid_1's rmse: 0.071497\n",
      "[140]\ttraining's rmse: 0.0971423\tvalid_1's rmse: 0.0674427\n",
      "[160]\ttraining's rmse: 0.0944462\tvalid_1's rmse: 0.0647495\n",
      "[180]\ttraining's rmse: 0.0923904\tvalid_1's rmse: 0.0627855\n",
      "[200]\ttraining's rmse: 0.0907881\tvalid_1's rmse: 0.0612755\n",
      "[220]\ttraining's rmse: 0.0894657\tvalid_1's rmse: 0.0601027\n",
      "[240]\ttraining's rmse: 0.0883913\tvalid_1's rmse: 0.0591765\n",
      "[260]\ttraining's rmse: 0.0875542\tvalid_1's rmse: 0.058626\n",
      "[280]\ttraining's rmse: 0.0868544\tvalid_1's rmse: 0.058137\n",
      "[300]\ttraining's rmse: 0.0862689\tvalid_1's rmse: 0.057728\n",
      "[320]\ttraining's rmse: 0.0858019\tvalid_1's rmse: 0.057459\n",
      "[340]\ttraining's rmse: 0.0853954\tvalid_1's rmse: 0.0570371\n",
      "[360]\ttraining's rmse: 0.0850328\tvalid_1's rmse: 0.0566519\n",
      "[380]\ttraining's rmse: 0.0846751\tvalid_1's rmse: 0.0561829\n",
      "[400]\ttraining's rmse: 0.0842939\tvalid_1's rmse: 0.0555672\n",
      "[420]\ttraining's rmse: 0.0839829\tvalid_1's rmse: 0.0550381\n",
      "[440]\ttraining's rmse: 0.0837426\tvalid_1's rmse: 0.0545901\n",
      "[460]\ttraining's rmse: 0.0835449\tvalid_1's rmse: 0.0542217\n",
      "[480]\ttraining's rmse: 0.0833479\tvalid_1's rmse: 0.0537751\n",
      "[500]\ttraining's rmse: 0.0831334\tvalid_1's rmse: 0.0532419\n",
      "[520]\ttraining's rmse: 0.0829406\tvalid_1's rmse: 0.0527106\n",
      "[540]\ttraining's rmse: 0.082771\tvalid_1's rmse: 0.0522415\n",
      "[560]\ttraining's rmse: 0.0826021\tvalid_1's rmse: 0.051835\n",
      "[580]\ttraining's rmse: 0.0824369\tvalid_1's rmse: 0.0513897\n",
      "[600]\ttraining's rmse: 0.0822998\tvalid_1's rmse: 0.0510709\n",
      "[620]\ttraining's rmse: 0.0821533\tvalid_1's rmse: 0.0507245\n",
      "[640]\ttraining's rmse: 0.0820206\tvalid_1's rmse: 0.0505341\n",
      "[660]\ttraining's rmse: 0.0818984\tvalid_1's rmse: 0.0503416\n",
      "[680]\ttraining's rmse: 0.0817651\tvalid_1's rmse: 0.0500255\n",
      "[700]\ttraining's rmse: 0.0816371\tvalid_1's rmse: 0.0496979\n",
      "[720]\ttraining's rmse: 0.0814552\tvalid_1's rmse: 0.0494159\n",
      "[740]\ttraining's rmse: 0.0812794\tvalid_1's rmse: 0.0492291\n",
      "[760]\ttraining's rmse: 0.081113\tvalid_1's rmse: 0.0490695\n",
      "[780]\ttraining's rmse: 0.0809375\tvalid_1's rmse: 0.0488982\n",
      "[800]\ttraining's rmse: 0.0807667\tvalid_1's rmse: 0.0486376\n",
      "[820]\ttraining's rmse: 0.0806049\tvalid_1's rmse: 0.0484047\n",
      "[840]\ttraining's rmse: 0.0804576\tvalid_1's rmse: 0.0481199\n",
      "[860]\ttraining's rmse: 0.0802806\tvalid_1's rmse: 0.0480912\n",
      "Early stopping, best iteration is:\n",
      "[861]\ttraining's rmse: 0.0802704\tvalid_1's rmse: 0.0480829\n"
     ]
    },
    {
     "data": {
      "text/plain": [
       "LGBMRegressor(learning_rate=0.01, max_depth=3, min_child_samples=15,\n",
       "              n_estimators=3000, num_leaves=36, objective='rmse')"
      ]
     },
     "execution_count": 35,
     "metadata": {},
     "output_type": "execute_result"
    }
   ],
   "source": [
    "model_lgbm = LGBMRegressor(objective='rmse', n_estimators=3000, learning_rate=0.01, num_leaves=36, min_child_samples = 15, \n",
    "                           n_jobs=-1,  random_state = None, max_depth = 3, reg_lambda = 0.0, reg_alpha = 0.0, min_split_gain=0.0)\n",
    "eval_set_ALLRESTS = [(X_train, y_train), (X_test, y_test)]\n",
    "model_lgbm.fit(X_train, y_train, eval_set = eval_set_ALLRESTS ,eval_metric='rmse', early_stopping_rounds=15, verbose=20)"
   ]
  },
  {
   "cell_type": "code",
   "execution_count": 36,
   "metadata": {
    "execution": {
     "iopub.execute_input": "2020-11-14T14:12:59.445362Z",
     "iopub.status.busy": "2020-11-14T14:12:59.444488Z",
     "iopub.status.idle": "2020-11-14T14:13:00.115247Z",
     "shell.execute_reply": "2020-11-14T14:13:00.114247Z"
    },
    "papermill": {
     "duration": 0.762854,
     "end_time": "2020-11-14T14:13:00.115408",
     "exception": false,
     "start_time": "2020-11-14T14:12:59.352554",
     "status": "completed"
    },
    "tags": []
   },
   "outputs": [
    {
     "name": "stdout",
     "output_type": "stream",
     "text": [
      "Train set RMSE (Log): 0.08027037006482328\n",
      "Train set MAPE (Log): 0.36199918497744477\n",
      "Train set RMSE (Non-Log): 1883.6518541418754\n",
      "Train set MAPE (Non-Log): 3.77903096898771\n",
      "% Success (Non-Log): 96.22096903101229\n"
     ]
    }
   ],
   "source": [
    "y_train_lgbm = model_lgbm.predict(X_train)\n",
    "print(\"Train set RMSE (Log): \" + str(np.sqrt(mean_squared_error(y_train_lgbm, y_train))))\n",
    "print(\"Train set MAPE (Log): \" + str(mean_absolute_percentage_error(y_train, y_train_lgbm)))\n",
    "print(\"Train set RMSE (Non-Log): \" + str(np.sqrt(mean_squared_error(np.expm1(y_train_lgbm), np.expm1(y_train)))))\n",
    "print(\"Train set MAPE (Non-Log): \" + str(mean_absolute_percentage_error(np.expm1(y_train), np.expm1(y_train_lgbm))))\n",
    "print(\"% Success (Non-Log): \" + str(100 - mean_absolute_percentage_error(np.expm1(y_train), np.expm1(y_train_lgbm))))"
   ]
  },
  {
   "cell_type": "code",
   "execution_count": 37,
   "metadata": {
    "execution": {
     "iopub.execute_input": "2020-11-14T14:13:00.271635Z",
     "iopub.status.busy": "2020-11-14T14:13:00.270465Z",
     "iopub.status.idle": "2020-11-14T14:13:00.308762Z",
     "shell.execute_reply": "2020-11-14T14:13:00.307163Z"
    },
    "papermill": {
     "duration": 0.125186,
     "end_time": "2020-11-14T14:13:00.308970",
     "exception": false,
     "start_time": "2020-11-14T14:13:00.183784",
     "status": "completed"
    },
    "tags": []
   },
   "outputs": [
    {
     "name": "stdout",
     "output_type": "stream",
     "text": [
      "Validation set RMSE (Log): 0.048082906764366815\n",
      "Validation set MAPE (Log): 0.31060464728053844\n",
      "Validation set RMSE (Non-Log): 1672.158226302014\n",
      "Validation set MAPE (Non-Log): 3.259334799927164\n",
      "% Success (Non-Log): 96.74066520007284\n"
     ]
    }
   ],
   "source": [
    "y_test_lgbm = model_lgbm.predict(X_test)\n",
    "print(\"Validation set RMSE (Log): \" + str(np.sqrt(mean_squared_error(y_test_lgbm, y_test))))\n",
    "print(\"Validation set MAPE (Log): \" + str(mean_absolute_percentage_error(y_test, y_test_lgbm)))\n",
    "print(\"Validation set RMSE (Non-Log): \" + str(np.sqrt(mean_squared_error(np.expm1(y_test_lgbm), np.expm1(y_test)))))\n",
    "print(\"Validation set MAPE (Non-Log): \" + str(mean_absolute_percentage_error(np.expm1(y_test), np.expm1(y_test_lgbm))))\n",
    "print(\"% Success (Non-Log): \" + str(100 - mean_absolute_percentage_error(np.expm1(y_test), np.expm1(y_test_lgbm))))"
   ]
  },
  {
   "cell_type": "markdown",
   "metadata": {
    "papermill": {
     "duration": 0.086016,
     "end_time": "2020-11-14T14:13:00.481266",
     "exception": false,
     "start_time": "2020-11-14T14:13:00.395250",
     "status": "completed"
    },
    "tags": []
   },
   "source": [
    "We may say that our model performed ~96.2% on train set and ~96.7% on the test set, not bad isn't it!"
   ]
  },
  {
   "cell_type": "code",
   "execution_count": 38,
   "metadata": {
    "execution": {
     "iopub.execute_input": "2020-11-14T14:13:00.633483Z",
     "iopub.status.busy": "2020-11-14T14:13:00.626406Z",
     "iopub.status.idle": "2020-11-14T14:13:00.946955Z",
     "shell.execute_reply": "2020-11-14T14:13:00.946139Z"
    },
    "papermill": {
     "duration": 0.398535,
     "end_time": "2020-11-14T14:13:00.947101",
     "exception": false,
     "start_time": "2020-11-14T14:13:00.548566",
     "status": "completed"
    },
    "tags": []
   },
   "outputs": [
    {
     "data": {
      "text/plain": [
       "<Figure size 1224x576 with 0 Axes>"
      ]
     },
     "metadata": {},
     "output_type": "display_data"
    },
    {
     "data": {
      "image/png": "[encoded data removed]",
      "text/plain": [
       "<Figure size 432x288 with 1 Axes>"
      ]
     },
     "metadata": {},
     "output_type": "display_data"
    }
   ],
   "source": [
    "from matplotlib import pyplot\n",
    "# retrieve performance metrics\n",
    "results = model_lgbm.evals_result_\n",
    "epochs = len(results['training']['rmse'])\n",
    "x_axis = range(0, epochs)\n",
    "# plot MAE\n",
    "plt.figure(figsize=(17,8))\n",
    "fig, ax = pyplot.subplots()\n",
    "ax.plot(x_axis, results['training']['rmse'], label='Train')\n",
    "ax.plot(x_axis, results['valid_1']['rmse'], label='Validation')\n",
    "ax.legend();\n",
    "pyplot.ylabel('RMSE')\n",
    "pyplot.xlabel('# of iterations (or # of estimators)')\n",
    "pyplot.title('LGBM RMSE')\n",
    "pyplot.show()"
   ]
  },
  {
   "cell_type": "code",
   "execution_count": 39,
   "metadata": {
    "execution": {
     "iopub.execute_input": "2020-11-14T14:13:01.105753Z",
     "iopub.status.busy": "2020-11-14T14:13:01.093664Z",
     "iopub.status.idle": "2020-11-14T14:13:01.562760Z",
     "shell.execute_reply": "2020-11-14T14:13:01.561932Z"
    },
    "papermill": {
     "duration": 0.546709,
     "end_time": "2020-11-14T14:13:01.562904",
     "exception": false,
     "start_time": "2020-11-14T14:13:01.016195",
     "status": "completed"
    },
    "tags": []
   },
   "outputs": [
    {
     "data": {
      "image/png": "[encoded data removed]",
      "text/plain": [
       "<Figure size 864x1440 with 1 Axes>"
      ]
     },
     "metadata": {},
     "output_type": "display_data"
    }
   ],
   "source": [
    "# Create a pd.Series of features importances\n",
    "importances = pd.Series(data=model_lgbm.feature_importances_,\n",
    "                        index= df_train.drop('Consumption (MWh)', axis=1).columns)\n",
    "\n",
    "# Sort importances\n",
    "importances_sorted = importances.sort_values()\n",
    "plt.figure(figsize=(12,20))\n",
    "# Draw a horizontal barplot of importances_sorted\n",
    "importances_sorted.plot(kind='barh', color='lightblue')\n",
    "plt.title('Features Importances')\n",
    "plt.show()"
   ]
  },
  {
   "cell_type": "markdown",
   "metadata": {
    "papermill": {
     "duration": 0.071085,
     "end_time": "2020-11-14T14:13:01.704793",
     "exception": false,
     "start_time": "2020-11-14T14:13:01.633708",
     "status": "completed"
    },
    "tags": []
   },
   "source": [
    "This entire code is for educational purposes, for an industry level production ready application, one needs to perform an eloborate feature engineering and an iterative hyperparameter-tuning. For the production phase, time-series spesific cross validation would also help for understanding the generalization power of the model to the future unseen data. In addition, there may be many domain spesific features or some fundamental features those higly affecting the model performance, a few examples to these might be given as: hourly weather condition, Vacation & Special days, features regarding energy consuming factories and sun set & rise data. \n",
    "\n",
    "It might be good exercise to try these and further features, selecting the highly correlated ones and also tuning the hyperparameters, finally trying other models such as Random-Forest, XGBoost, NGBoost, Prophet or DNNs (LSTM, etc.)."
   ]
  },
  {
   "cell_type": "code",
   "execution_count": null,
   "metadata": {
    "papermill": {
     "duration": 0.072163,
     "end_time": "2020-11-14T14:13:01.848518",
     "exception": false,
     "start_time": "2020-11-14T14:13:01.776355",
     "status": "completed"
    },
    "tags": []
   },
   "outputs": [],
   "source": []
  }
 ],
 "metadata": {
  "kernelspec": {
   "display_name": "Python 3",
   "language": "python",
   "name": "python3"
  },
  "language_info": {
   "codemirror_mode": {
    "name": "ipython",
    "version": 3
   },
   "file_extension": ".py",
   "mimetype": "text/x-python",
   "name": "python",
   "nbconvert_exporter": "python",
   "pygments_lexer": "ipython3",
   "version": "3.7.6"
  },
  "papermill": {
   "duration": 23.326899,
   "end_time": "2020-11-14T14:13:02.029960",
   "environment_variables": {},
   "exception": null,
   "input_path": "__notebook__.ipynb",
   "output_path": "__notebook__.ipynb",
   "parameters": {},
   "start_time": "2020-11-14T14:12:38.703061",
   "version": "2.1.0"
  }
 },
 "nbformat": 4,
 "nbformat_minor": 4
}
